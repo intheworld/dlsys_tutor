{
 "cells": [
  {
   "cell_type": "code",
   "execution_count": 1,
   "id": "df63bb88",
   "metadata": {},
   "outputs": [],
   "source": [
    "import numpy as np\n",
    "import tvm\n",
    "from tvm import te\n",
    "\n",
    "def matmul(n, m, l):\n",
    "    \"\"\"\n",
    "    A : n x l\n",
    "    B : l x m\n",
    "    C : n x m\n",
    "    \"\"\"\n",
    "    k = te.reduce_axis((0, l), name='k')\n",
    "    A = te.placeholder((n, l), name='A')\n",
    "    B = te.placeholder((l, m), name='B')\n",
    "    C = te.compute((n, m),\n",
    "                  lambda x,y: te.sum(A[x,k] * B[k,y], axis=k), name='C')\n",
    "    return A,B,C\n"
   ]
  },
  {
   "cell_type": "code",
   "execution_count": 3,
   "id": "507f5da6",
   "metadata": {},
   "outputs": [],
   "source": [
    "n = 100\n",
    "A,B,C = matmul(n, n, n)\n",
    "s = te.create_schedule(C.op)\n",
    "#print(tvm.lower(s, [A,B], simple_mode=True))\n",
    "mod = tvm.build(s, [A,B,C])"
   ]
  },
  {
   "cell_type": "code",
   "execution_count": 4,
   "id": "a8eac539",
   "metadata": {},
   "outputs": [],
   "source": [
    "def get_abc(shape, constructor=None):\n",
    "    \"\"\"Return random a, b and empty c with the same shape.\n",
    "    \"\"\"\n",
    "    np.random.seed(0)\n",
    "    a = np.random.normal(size=shape).astype(np.float32)\n",
    "    b = np.random.normal(size=shape).astype(np.float32)\n",
    "    c = np.empty_like(a)\n",
    "    if constructor:\n",
    "        a, b, c = [constructor(x) for x in (a, b, c)]\n",
    "    return a, b, c"
   ]
  },
  {
   "cell_type": "code",
   "execution_count": null,
   "id": "cc92093f",
   "metadata": {},
   "outputs": [],
   "source": [
    "a,b,c = get_abc((100,100), tvm.nd.array)\n",
    "mod(a,b,c)\n",
    "np.testing.assert_allclose(np.dot(a))"
   ]
  }
 ],
 "metadata": {
  "kernelspec": {
   "display_name": "Python 3 (ipykernel)",
   "language": "python",
   "name": "python3"
  },
  "language_info": {
   "codemirror_mode": {
    "name": "ipython",
    "version": 3
   },
   "file_extension": ".py",
   "mimetype": "text/x-python",
   "name": "python",
   "nbconvert_exporter": "python",
   "pygments_lexer": "ipython3",
   "version": "3.9.13"
  }
 },
 "nbformat": 4,
 "nbformat_minor": 5
}
