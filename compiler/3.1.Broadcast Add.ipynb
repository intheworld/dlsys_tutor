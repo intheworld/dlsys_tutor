{
 "cells": [
  {
   "cell_type": "code",
   "execution_count": 2,
   "id": "771f9a12",
   "metadata": {},
   "outputs": [],
   "source": [
    "import numpy as np\n",
    "import tvm \n",
    "from tvm import te\n",
    "\n",
    "def broadcast_add(shape1, shape2):\n",
    "    assert len(shape1) == 2 and len(shape2) == 2, \\\n",
    "        \"broadcast tensors should both be 2-dimsion\"\n",
    "    for i in range(len(shape1)):\n",
    "        assert shape1[i] == shape2[i] or shape1[i] == 1 or shape2[i] == 1, \\\n",
    "            \"tensor shapes do not fit for broadcasting\"\n",
    "    A = te.placeholder(shape1, name='A')\n",
    "    B = te.placeholder(shape2, name='B')\n",
    "    m = shape1[0] if shape2[0] == 1 else shape2[0]\n",
    "    n = shape1[1] if shape2[1] == 1 else shape2[1]\n",
    "    f = lambda x, y: A[0 if shape1[0]==1 else x, 0 if shape1[1]==1 else y] + \\\n",
    "        B[0 if shape2[0]==1 else x, 0 if shape2[1]==1 else y]\n",
    "    C = te.compute((m, n), f, name='C')\n",
    "    return A, B, C\n"
   ]
  },
  {
   "cell_type": "code",
   "execution_count": 3,
   "id": "dfdc75e1",
   "metadata": {},
   "outputs": [
    {
     "name": "stdout",
     "output_type": "stream",
     "text": [
      "@main = primfn(A_1: handle, B_1: handle) -> ()\n",
      "  attr = {\"from_legacy_te_schedule\": True, \"global_symbol\": \"main\", \"tir.noalias\": True}\n",
      "  buffers = {A: Buffer(A_2: Pointer(float32), float32, [3], []),\n",
      "             B: Buffer(B_2: Pointer(float32), float32, [12], [])}\n",
      "  buffer_map = {A_1: A, B_1: B}\n",
      "  preflattened_buffer_map = {A_1: A_3: Buffer(A_2, float32, [3, 1], []), B_1: B_3: Buffer(B_2, float32, [3, 4], [])} {\n",
      "  allocate(C: Pointer(global float32), float32, [12]), storage_scope = global;\n",
      "  for (x: int32, 0, 3) {\n",
      "    for (y: int32, 0, 4) {\n",
      "      let cse_var_1: int32 = ((x*4) + y)\n",
      "      C_1: Buffer(C, float32, [12], [], align=32)[cse_var_1] = (A[x] + B[cse_var_1])\n",
      "    }\n",
      "  }\n",
      "}\n",
      "\n",
      "\n"
     ]
    }
   ],
   "source": [
    "m = 3\n",
    "n = 4\n",
    "shape1 = (m, 1)\n",
    "shape2 = (m, n)\n",
    "A, B, C = broadcast_add(shape1, shape2)\n",
    "s = te.create_schedule(C.op)\n",
    "print(tvm.lower(s, [A, B], simple_mode=True))\n",
    "mod = tvm.build(s, [A, B, C])"
   ]
  },
  {
   "cell_type": "code",
   "execution_count": null,
   "id": "77e3057a",
   "metadata": {},
   "outputs": [],
   "source": []
  }
 ],
 "metadata": {
  "kernelspec": {
   "display_name": "Python 3 (ipykernel)",
   "language": "python",
   "name": "python3"
  },
  "language_info": {
   "codemirror_mode": {
    "name": "ipython",
    "version": 3
   },
   "file_extension": ".py",
   "mimetype": "text/x-python",
   "name": "python",
   "nbconvert_exporter": "python",
   "pygments_lexer": "ipython3",
   "version": "3.9.13"
  }
 },
 "nbformat": 4,
 "nbformat_minor": 5
}
