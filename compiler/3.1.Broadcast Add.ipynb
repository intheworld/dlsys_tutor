{
 "cells": [
  {
   "cell_type": "code",
   "execution_count": 3,
   "id": "40b45d7f",
   "metadata": {},
   "outputs": [],
   "source": [
    "import numpy as np\n",
    "import tvm \n",
    "from tvm import te\n",
    "\n",
    "def broadcast_add(shape1, shape2):\n",
    "    assert len(shape1) == 2 and len(shape2) == 2, \\\n",
    "        \"broadcast tensors should both be 2-dimsion\"\n",
    "    for i in range(len(shape1)):\n",
    "        assert shape1[i] == shape2[i] or shape1[i] == 1 or shape2[i] == 1, \\\n",
    "            \"tensor shapes do not fit for broadcasting\"\n",
    "    A = te.placeholder(shape1, name='A')\n",
    "    B = te.placeholder(shape2, name='B')\n",
    "    m = shape1[0] if shape2[0] == 1 else shape2[0]\n",
    "    n = shape1[1] if shape2[1] == 1 else shape2[1]\n",
    "    f = lambda x, y: A[0 if shape1[0]==1 else x, 0 if shape1[1]==1 else y] + \\\n",
    "        B[0 if shape2[0]==1 else x, 0 if shape2[1]==1 else y]\n",
    "    C = te.compute((m, n), f, name='C')\n",
    "    return A, B, C\n"
   ]
  },
  {
   "cell_type": "code",
   "execution_count": 9,
   "id": "ca127bed",
   "metadata": {},
   "outputs": [],
   "source": [
    "m = 3\n",
    "n = 4\n",
    "shape1 = (m, 1)\n",
    "shape2 = (m, n)\n",
    "A, B, C = broadcast_add(shape1, shape2)\n",
    "s = te.create_schedule(C.op)\n",
    "#print(tvm.lower(s, [A, B], simple_mode=True))\n",
    "mod = tvm.build(s, [A, B, C])"
   ]
  },
  {
   "cell_type": "code",
   "execution_count": 11,
   "id": "d16aba23",
   "metadata": {},
   "outputs": [],
   "source": [
    "def get_bcast_data(shape1, shape2, constructor=None):\n",
    "    np.random.seed(0)\n",
    "    a = np.random.normal(size=shape1).astype('float32')\n",
    "    b = np.random.normal(size=shape2).astype(\"float32\")\n",
    "    out_shape = (shape1[0] if shape2[0] == 1 else shape2[0],\n",
    "                shape1[1] if shape2[1] == 1 else shape2[1])\n",
    "    c = np.empty(out_shape, dtype='float32')\n",
    "    if constructor:\n",
    "        a,b,c = [constructor(x) for x in (a,b,c)]\n",
    "    return a,b,c\n",
    "\n",
    "a,b,c = get_bcast_data(shape1, shape2, tvm.nd.array)\n",
    "mod(a,b,c)\n",
    "np.testing.assert_allclose(np.add(a.asnumpy(), b.asnumpy()), c.asnumpy(), atol=1e-5)"
   ]
  },
  {
   "cell_type": "code",
   "execution_count": 12,
   "id": "1d39a050",
   "metadata": {},
   "outputs": [
    {
     "name": "stdout",
     "output_type": "stream",
     "text": [
      "(3, 1) (1, 4) (3, 4)\n"
     ]
    }
   ],
   "source": [
    "shape3 = (m, 1)\n",
    "shape4 = (1, n)\n",
    "A1, B1, C1 = broadcast_add(shape3, shape4)\n",
    "s = te.create_schedule(C1.op)\n",
    "#print(tvm.lower(s, [A, B], simple_mode=True))\n",
    "mod = tvm.build(s, [A1, B1, C1])\n",
    "a1,b1,c1 = get_bcast_data(shape3, shape4, tvm.nd.array)\n",
    "mod(a1,b1,c1)\n",
    "np.testing.assert_allclose(np.add(a1.asnumpy(), b1.asnumpy()), c1.asnumpy(), atol=1e-5)\n",
    "print(a1.shape, b1.shape, c1.shape)\n"
   ]
  }
 ],
 "metadata": {
  "kernelspec": {
   "display_name": "Python 3 (ipykernel)",
   "language": "python",
   "name": "python3"
  },
  "language_info": {
   "codemirror_mode": {
    "name": "ipython",
    "version": 3
   },
   "file_extension": ".py",
   "mimetype": "text/x-python",
   "name": "python",
   "nbconvert_exporter": "python",
   "pygments_lexer": "ipython3",
   "version": "3.9.13"
  }
 },
 "nbformat": 4,
 "nbformat_minor": 5
}
