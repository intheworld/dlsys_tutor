{
 "cells": [
  {
   "cell_type": "code",
   "execution_count": 4,
   "id": "22d8a4d9",
   "metadata": {},
   "outputs": [],
   "source": [
    "import numpy as np\n",
    "import tvm\n",
    "from tvm import te"
   ]
  },
  {
   "cell_type": "code",
   "execution_count": 5,
   "id": "daaf28cb",
   "metadata": {},
   "outputs": [],
   "source": [
    "def conv_out_size(n,k,p,s):\n",
    "    return (n-k+2*p)//s + 1\n",
    "def padding(X, ph, pw, val=0):\n",
    "    assert len(X.shape) >= 2\n",
    "    nh,nw = X.shape[-2],X.shape[-1]\n",
    "    return te.compute(\n",
    "        (*X.shape[0:-2],nh+ph*2,nw+pw*2),\n",
    "        lambda *i:te.if_then_else(\n",
    "            te.any(i[-2]<ph, i[-2]>=nh+ph, i[-1]<pw, i[-1]>=nw+pw),\n",
    "            val,X[i[:-2]+(i[-2]-ph,i[-1]-pw)]),name='PaddedX')"
   ]
  },
  {
   "cell_type": "code",
   "execution_count": 6,
   "id": "42d3c0f8",
   "metadata": {},
   "outputs": [],
   "source": [
    "def get_conv_data(oc,ic,n,k,p=0,s=1,constructor=None,conv_type='direct'):\n",
    "    np.random.seed(0)\n",
    "    data = np.random.normal(size=(ic,n,n)).astype('float32')\n",
    "    ic_weight = ic\n",
    "    if conv_type == 'depthwise':\n",
    "        ic_weight = 1\n",
    "    weight = np.random.normal(size=(oc,ic_weight,k,k)).astype('float32')\n",
    "    on = conv_out_size(n,k,p,s)\n",
    "    out = np.empty((oc,on,on), dtype='float32')\n",
    "    if constructor:\n",
    "        data, weight, out = (constructor(x) for x in [data, weight, out])\n",
    "    return data,weight,out"
   ]
  },
  {
   "cell_type": "code",
   "execution_count": 7,
   "id": "fbe90c5a",
   "metadata": {},
   "outputs": [],
   "source": [
    "def depthwise_conv(ic, nh, nw, kh, kw, ph=0, pw=0, sh=1, sw=1):\n",
    "    \"\"\"Convolution\n",
    "\n",
    "    ic : number of channels for both input and output\n",
    "    nh, nw : input width and height\n",
    "    kh, kw : kernel width and height\n",
    "    ph, pw : height and width padding sizes, default 0\n",
    "    sh, sw : height and width strides, default 1\n",
    "    \"\"\"\n",
    "    # reduction axes\n",
    "    rkh = te.reduce_axis((0, kh), name='rkh')\n",
    "    rkw = te.reduce_axis((0, kw), name='rkw')\n",
    "    # output height and weights\n",
    "    oh = conv_out_size(nh, kh, ph, sh)\n",
    "    ow = conv_out_size(nw, kw, pw, sw)\n",
    "    # pad X and then compute Y\n",
    "    X = te.placeholder((ic, nh, nw), name='X')\n",
    "    K = te.placeholder((ic, 1, kh, kw), name='K')\n",
    "    PaddedX = padding(X, ph, pw) if ph * pw != 0 else X\n",
    "    Y = te.compute(\n",
    "        (ic, oh, ow),\n",
    "        lambda c, i, j: te.sum(\n",
    "            (PaddedX[c, i*sh+rkh, j*sw+rkw] * K[c, 0, rkh, rkw]),\n",
    "            axis=[rkh, rkw]), name='Y')\n",
    "\n",
    "    return X, K, Y, PaddedX"
   ]
  },
  {
   "cell_type": "code",
   "execution_count": 8,
   "id": "887b4bdc",
   "metadata": {},
   "outputs": [
    {
     "name": "stdout",
     "output_type": "stream",
     "text": [
      "@main = primfn(X_1: handle, K_1: handle, Y_1: handle) -> ()\n",
      "  attr = {\"from_legacy_te_schedule\": True, \"global_symbol\": \"main\", \"tir.noalias\": True}\n",
      "  buffers = {X: Buffer(X_2: Pointer(float32), float32, [36864], []),\n",
      "             K: Buffer(K_2: Pointer(float32), float32, [2304], []),\n",
      "             Y: Buffer(Y_2: Pointer(float32), float32, [36864], [])}\n",
      "  buffer_map = {X_1: X, K_1: K, Y_1: Y}\n",
      "  preflattened_buffer_map = {X_1: X_3: Buffer(X_2, float32, [256, 12, 12], []), K_1: K_3: Buffer(K_2, float32, [256, 1, 3, 3], []), Y_1: Y_3: Buffer(Y_2, float32, [256, 12, 12], [])} {\n",
      "  allocate(PaddedX: Pointer(global float32), float32, [50176]), storage_scope = global {\n",
      "    for (i0: int32, 0, 256) {\n",
      "      for (i1: int32, 0, 14) {\n",
      "        for (i2: int32, 0, 14) {\n",
      "          PaddedX_1: Buffer(PaddedX, float32, [50176], [])[(((i0*196) + (i1*14)) + i2)] = @tir.if_then_else(((((i1 < 1) || (13 <= i1)) || (i2 < 1)) || (13 <= i2)), 0f32, X[((((i0*144) + (i1*12)) + i2) - 13)], dtype=float32)\n",
      "        }\n",
      "      }\n",
      "    }\n",
      "    for (c: int32, 0, 256) {\n",
      "      for (i: int32, 0, 12) {\n",
      "        for (j: int32, 0, 12) {\n",
      "          Y[(((c*144) + (i*12)) + j)] = 0f32\n",
      "          for (rkh: int32, 0, 3) {\n",
      "            for (rkw: int32, 0, 3) {\n",
      "              let cse_var_1: int32 = (((c*144) + (i*12)) + j)\n",
      "              Y[cse_var_1] = (Y[cse_var_1] + (PaddedX_1[(((((c*196) + (i*14)) + (rkh*14)) + j) + rkw)]*K[(((c*9) + (rkh*3)) + rkw)]))\n",
      "            }\n",
      "          }\n",
      "        }\n",
      "      }\n",
      "    }\n",
      "  }\n",
      "}\n",
      "\n",
      "\n"
     ]
    }
   ],
   "source": [
    "ic, n, k, p, s = 256, 12, 3, 1, 1\n",
    "\n",
    "X,K,Y,_ = depthwise_conv(ic, n, n, k, k, p, p, s, s)\n",
    "sch = te.create_schedule(Y.op)\n",
    "mod = tvm.build(sch, [X, K, Y])\n",
    "print(tvm.lower(sch, [X, K, Y], simple_mode=True))\n",
    "data, weight, out = get_conv_data(ic, ic, n, k, p, s,\n",
    "                                  constructor=tvm.nd.array,\n",
    "                                  conv_type='depthwise')\n",
    "mod(data, weight, out)"
   ]
  },
  {
   "cell_type": "code",
   "execution_count": null,
   "id": "be6c4a13",
   "metadata": {},
   "outputs": [],
   "source": []
  }
 ],
 "metadata": {
  "kernelspec": {
   "display_name": "Python 3 (ipykernel)",
   "language": "python",
   "name": "python3"
  },
  "language_info": {
   "codemirror_mode": {
    "name": "ipython",
    "version": 3
   },
   "file_extension": ".py",
   "mimetype": "text/x-python",
   "name": "python",
   "nbconvert_exporter": "python",
   "pygments_lexer": "ipython3",
   "version": "3.9.13"
  }
 },
 "nbformat": 4,
 "nbformat_minor": 5
}
