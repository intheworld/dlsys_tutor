{
 "cells": [
  {
   "cell_type": "code",
   "execution_count": 1,
   "id": "6393a876",
   "metadata": {},
   "outputs": [],
   "source": [
    "import numpy as np\n",
    "\n",
    "np.random.seed(0)\n",
    "n = 100\n",
    "a = np.random.normal(size=n).astype(np.float32)\n",
    "b = np.random.normal(size=n).astype(np.float32)\n",
    "c = a + b"
   ]
  },
  {
   "cell_type": "code",
   "execution_count": 2,
   "id": "3b836316",
   "metadata": {},
   "outputs": [],
   "source": [
    "def vector_add(a, b, c):\n",
    "    for i in range(n):\n",
    "        c[i] = a[i] + b[i]\n",
    "\n",
    "d = np.empty(shape=n, dtype=np.float32)\n",
    "vector_add(a, b, d)\n",
    "np.testing.assert_array_equal(c, d)"
   ]
  },
  {
   "cell_type": "code",
   "execution_count": 3,
   "id": "d53e2261",
   "metadata": {},
   "outputs": [],
   "source": [
    "# Save to the d2ltvm package.\n",
    "def get_abc(shape, constructor=None):\n",
    "    \"\"\"Return random a, b and empty c with the same shape.\n",
    "    \"\"\"\n",
    "    np.random.seed(0)\n",
    "    a = np.random.normal(size=shape).astype(np.float32)\n",
    "    b = np.random.normal(size=shape).astype(np.float32)\n",
    "    c = np.empty_like(a)\n",
    "    if constructor:\n",
    "        a, b, c = [constructor(x) for x in (a, b, c)]\n",
    "    return a, b, c"
   ]
  },
  {
   "cell_type": "code",
   "execution_count": 4,
   "id": "defd1b47",
   "metadata": {},
   "outputs": [
    {
     "data": {
      "text/plain": [
       "(tvm.te.tensor.Tensor, tvm.te.tensor.Tensor)"
      ]
     },
     "execution_count": 4,
     "metadata": {},
     "output_type": "execute_result"
    }
   ],
   "source": [
    "import tvm\n",
    "from tvm import te # te stands for tensor expression\n",
    "\n",
    "# Save to the d2ltvm package.\n",
    "def vector_add(n):\n",
    "    \"\"\"TVM expression for vector add\"\"\"\n",
    "    A = te.placeholder((n,), name='a')\n",
    "    B = te.placeholder((n,), name='b')\n",
    "    C = te.compute(A.shape, lambda i: A[i] + B[i], name='c')\n",
    "    return A, B, C\n",
    "\n",
    "A, B, C = vector_add(n)\n",
    "type(A), type(C)"
   ]
  },
  {
   "cell_type": "code",
   "execution_count": 5,
   "id": "9fc3d40b",
   "metadata": {},
   "outputs": [
    {
     "data": {
      "text/plain": [
       "(tvm.te.tensor.PlaceholderOp, tvm.te.tensor.ComputeOp)"
      ]
     },
     "execution_count": 5,
     "metadata": {},
     "output_type": "execute_result"
    }
   ],
   "source": [
    "type(A.op), type(C.op)"
   ]
  },
  {
   "cell_type": "code",
   "execution_count": 6,
   "id": "f2a6708f",
   "metadata": {},
   "outputs": [],
   "source": [
    "s = te.create_schedule(C.op)"
   ]
  },
  {
   "cell_type": "code",
   "execution_count": 7,
   "id": "b9761401",
   "metadata": {},
   "outputs": [
    {
     "data": {
      "text/plain": [
       "(tvm.te.schedule.Schedule, tvm.te.schedule.Stage)"
      ]
     },
     "execution_count": 7,
     "metadata": {},
     "output_type": "execute_result"
    }
   ],
   "source": [
    "type(s), type(s[C])"
   ]
  },
  {
   "cell_type": "code",
   "execution_count": 8,
   "id": "d8565aa6",
   "metadata": {},
   "outputs": [
    {
     "data": {
      "text/plain": [
       "#[version = \"0.0.5\"]\n",
       "@main = primfn(a_1: handle, b_1: handle, c_1: handle) -> ()\n",
       "  attr = {\"from_legacy_te_schedule\": True, \"global_symbol\": \"main\", \"tir.noalias\": True}\n",
       "  buffers = {a: Buffer(a_2: Pointer(float32), float32, [100], []),\n",
       "             b: Buffer(b_2: Pointer(float32), float32, [100], []),\n",
       "             c: Buffer(c_2: Pointer(float32), float32, [100], [])}\n",
       "  buffer_map = {a_1: a, b_1: b, c_1: c}\n",
       "  preflattened_buffer_map = {a_1: a_3: Buffer(a_2, float32, [100], []), b_1: b_3: Buffer(b_2, float32, [100], []), c_1: c_3: Buffer(c_2, float32, [100], [])} {\n",
       "  for (i: int32, 0, 100) {\n",
       "    c[i] = (a[i] + b[i])\n",
       "  }\n",
       "}\n",
       "\n",
       "#[metadata]\n",
       "{\n",
       "  \"root\": 1, \n",
       "  \"nodes\": [\n",
       "    {\n",
       "      \"type_key\": \"\"\n",
       "    }, \n",
       "    {\n",
       "      \"type_key\": \"Map\", \n",
       "      \"keys\": [\n",
       "        \"IntImm\"\n",
       "      ], \n",
       "      \"data\": [2]\n",
       "    }, \n",
       "    {\n",
       "      \"type_key\": \"Array\", \n",
       "      \"data\": [3, 4]\n",
       "    }, \n",
       "    {\n",
       "      \"type_key\": \"IntImm\", \n",
       "      \"attrs\": {\n",
       "        \"dtype\": \"bool\", \n",
       "        \"span\": \"0\", \n",
       "        \"value\": \"1\"\n",
       "      }\n",
       "    }, \n",
       "    {\n",
       "      \"type_key\": \"IntImm\", \n",
       "      \"attrs\": {\n",
       "        \"dtype\": \"bool\", \n",
       "        \"span\": \"0\", \n",
       "        \"value\": \"1\"\n",
       "      }\n",
       "    }\n",
       "  ], \n",
       "  \"b64ndarrays\": [], \n",
       "  \"attrs\": {\"tvm_version\": \"0.9.dev0\"}\n",
       "}"
      ]
     },
     "execution_count": 8,
     "metadata": {},
     "output_type": "execute_result"
    }
   ],
   "source": [
    "tvm.lower(s, [A, B, C], simple_mode=True)"
   ]
  },
  {
   "cell_type": "code",
   "execution_count": 9,
   "id": "4c0ff867",
   "metadata": {},
   "outputs": [
    {
     "data": {
      "text/plain": [
       "tvm.driver.build_module.OperatorModule"
      ]
     },
     "execution_count": 9,
     "metadata": {},
     "output_type": "execute_result"
    }
   ],
   "source": [
    "mod = tvm.build(s, [A, B, C])\n",
    "type(mod)"
   ]
  },
  {
   "cell_type": "code",
   "execution_count": 10,
   "id": "9bce3606",
   "metadata": {},
   "outputs": [
    {
     "data": {
      "text/plain": [
       "(tvm.runtime.ndarray.NDArray, array([1., 1.]))"
      ]
     },
     "execution_count": 10,
     "metadata": {},
     "output_type": "execute_result"
    }
   ],
   "source": [
    "x = np.ones(2)\n",
    "y = tvm.nd.array(x)\n",
    "type(y), y.asnumpy()"
   ]
  },
  {
   "cell_type": "code",
   "execution_count": 11,
   "id": "78ee1924",
   "metadata": {},
   "outputs": [],
   "source": [
    "a, b, c = get_abc(100, tvm.nd.array)"
   ]
  },
  {
   "cell_type": "code",
   "execution_count": 16,
   "id": "6db3b729",
   "metadata": {},
   "outputs": [],
   "source": [
    "mod(a, b, c)\n",
    "np.testing.assert_array_equal(a.asnumpy() + b.asnumpy(), c.asnumpy())"
   ]
  },
  {
   "cell_type": "markdown",
   "id": "ed5ce969",
   "metadata": {},
   "source": [
    "## Saving and Loading a Module"
   ]
  },
  {
   "cell_type": "code",
   "execution_count": 17,
   "id": "bd46646c",
   "metadata": {},
   "outputs": [],
   "source": [
    "mod_fname = 'vector-add.tar'\n",
    "mod.export_library(mod_fname)"
   ]
  },
  {
   "cell_type": "code",
   "execution_count": 18,
   "id": "19436522",
   "metadata": {},
   "outputs": [],
   "source": [
    "loaded_mod = tvm.runtime.load_module(mod_fname)"
   ]
  },
  {
   "cell_type": "code",
   "execution_count": 21,
   "id": "07b015bd",
   "metadata": {},
   "outputs": [],
   "source": [
    "a, b, c = get_abc(100, tvm.nd.array)\n",
    "loaded_mod(a, b, c)\n",
    "np.testing.assert_array_equal(a.asnumpy() + b.asnumpy(), c.asnumpy())"
   ]
  }
 ],
 "metadata": {
  "kernelspec": {
   "display_name": "Python 3 (ipykernel)",
   "language": "python",
   "name": "python3"
  },
  "language_info": {
   "codemirror_mode": {
    "name": "ipython",
    "version": 3
   },
   "file_extension": ".py",
   "mimetype": "text/x-python",
   "name": "python",
   "nbconvert_exporter": "python",
   "pygments_lexer": "ipython3",
   "version": "3.9.13"
  }
 },
 "nbformat": 4,
 "nbformat_minor": 5
}
