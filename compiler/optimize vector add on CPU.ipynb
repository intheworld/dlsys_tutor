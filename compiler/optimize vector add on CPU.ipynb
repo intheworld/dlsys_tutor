{
 "cells": [
  {
   "cell_type": "code",
   "execution_count": null,
   "metadata": {},
   "outputs": [],
   "source": [
    "#%matplotlib inline\n",
    "import d2ltvm\n",
    "import inspect\n",
    "from IPython import display\n",
    "import numpy as np\n",
    "import timeit\n",
    "import tvm\n",
    "from tvm import te\n",
    "from matplotlib import pyplot as plt"
   ]
  },
  {
   "cell_type": "code",
   "execution_count": null,
   "metadata": {},
   "outputs": [],
   "source": [
    "def plot(X, Y, xlabel=None, ylabel=None, legend=[], xlim=None,\n",
    "         ylim=None, xscale='linear', yscale='linear', fmts=None,\n",
    "         figsize=(4.5, 3)):\n",
    "    \"\"\"Plot multiple lines\"\"\"\n",
    "    display.set_matplotlib_formats('svg')\n",
    "    plt.rcParams['figure.figsize'] = figsize\n",
    "    axes = plt.gca()\n",
    "    X, Y = np.array(X), np.array(Y)\n",
    "    if X.shape != Y.shape: X = [X] * len(Y)\n",
    "    if not fmts: fmts = ['-'] * len(X)\n",
    "    for x, y, fmt in zip(X, Y, fmts):\n",
    "        axes.plot(x, y, fmt)\n",
    "    axes.set_xlabel(xlabel)\n",
    "    axes.set_ylabel(ylabel)\n",
    "    axes.set_xscale(xscale)\n",
    "    axes.set_yscale(yscale)\n",
    "    axes.set_xlim(xlim)\n",
    "    axes.set_ylim(ylim)\n",
    "    if legend: axes.legend(legend)\n",
    "    axes.grid()\n",
    "\n",
    "def plot_gflops(sizes, gflops, legend, xlabel='Size'):\n",
    "    plot(sizes, gflops, xlabel=xlabel, ylabel='GFLOPS',\n",
    "             xscale='log', yscale='log',\n",
    "             legend=legend, fmts=['--']*(len(gflops)-1)+['-'])\n",
    "    \n",
    "def bench_workload(workload):\n",
    "    workload(1)\n",
    "    time = workload(1)\n",
    "    if time > 1: return time\n",
    "    num_repeats = max(int(1.0/time),5)\n",
    "    return workload(num_repeats)/num_repeats"
   ]
  },
  {
   "cell_type": "code",
   "execution_count": null,
   "metadata": {},
   "outputs": [],
   "source": [
    "\n",
    "sizes = 2**np.arange(5,29,4)\n",
    "np_add = lambda n: timeit.Timer(setup='import numpy as np\\n'\n",
    "            'import d2ltvm\\n'\n",
    "            'a,b,c=d2ltvm.get_abc(%d)'%n,\n",
    "            stmt='np.add(a,b,out=c)')\n",
    "\n",
    "exe_times=[bench_workload(np_add(n).timeit) for n in sizes]\n",
    "np_gflops=sizes / 1e9 / np.array(exe_times)\n",
    "plot_gflops(sizes, [np_gflops],['numpy'])"
   ]
  },
  {
   "cell_type": "markdown",
   "metadata": {},
   "source": [
    "### Default Schedule"
   ]
  },
  {
   "cell_type": "code",
   "execution_count": null,
   "metadata": {},
   "outputs": [],
   "source": [
    "def default(n):\n",
    "    A,B,C=d2ltvm.vector_add(n)\n",
    "    s=te.create_schedule(C.op)\n",
    "    return s,(A,B,C)\n",
    "s,args = default(64)\n",
    "print(tvm.lower(s,args,simple_mode=True))"
   ]
  },
  {
   "cell_type": "code",
   "execution_count": null,
   "metadata": {},
   "outputs": [],
   "source": [
    "target = 'llvm -mcpu=skylake-avx512'\n",
    "mod = tvm.build(s, arg, target)\n",
    "print(mod.get_source()[:500])"
   ]
  }
 ],
 "metadata": {
  "kernelspec": {
   "display_name": "Python 3 (ipykernel)",
   "language": "python",
   "name": "python3"
  },
  "language_info": {
   "codemirror_mode": {
    "name": "ipython",
    "version": 3
   },
   "file_extension": ".py",
   "mimetype": "text/x-python",
   "name": "python",
   "nbconvert_exporter": "python",
   "pygments_lexer": "ipython3",
   "version": "3.9.13"
  }
 },
 "nbformat": 4,
 "nbformat_minor": 2
}
