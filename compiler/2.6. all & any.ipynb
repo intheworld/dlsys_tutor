{
 "cells": [
  {
   "cell_type": "code",
   "execution_count": 1,
   "id": "ca5f175a",
   "metadata": {},
   "outputs": [
    {
     "data": {
      "text/plain": [
       "(True, False)"
      ]
     },
     "execution_count": 1,
     "metadata": {},
     "output_type": "execute_result"
    }
   ],
   "source": [
    "import numpy as np\n",
    "import tvm\n",
    "from tvm import te\n",
    "\n",
    "any((0, 1, 2)), all((0, 1, 2))"
   ]
  },
  {
   "cell_type": "code",
   "execution_count": 3,
   "id": "af2b8257",
   "metadata": {},
   "outputs": [
    {
     "name": "stdout",
     "output_type": "stream",
     "text": [
      "[[0. 0. 0. 0. 0. 0.]\n",
      " [0. 1. 1. 1. 1. 0.]\n",
      " [0. 1. 1. 1. 1. 0.]\n",
      " [0. 1. 1. 1. 1. 0.]\n",
      " [0. 0. 0. 0. 0. 0.]]\n"
     ]
    }
   ],
   "source": [
    "a = np.ones((3,4), dtype='float32')\n",
    "b = np.zeros((5,6), dtype='float32')\n",
    "b[1:-1, 1:-1] = a\n",
    "print(b)"
   ]
  },
  {
   "cell_type": "code",
   "execution_count": 4,
   "id": "114d1322",
   "metadata": {},
   "outputs": [],
   "source": [
    "p = 1\n",
    "n,m = te.var('n'),te.var('m')\n",
    "A = te.placeholder((n,m), name='a')\n",
    "B = te.compute((n+p*2, m+p*2),\n",
    "              lambda i, j: te.if_then_else(\n",
    "                  te.any(i<p,i>=n+p, j<p, j>=m+p), 0, A[i-p, j-p]))"
   ]
  },
  {
   "cell_type": "code",
   "execution_count": 10,
   "id": "93e7fd78",
   "metadata": {},
   "outputs": [
    {
     "name": "stdout",
     "output_type": "stream",
     "text": [
      "[[0. 0. 0. 0. 0. 0.]\n",
      " [0. 1. 1. 1. 1. 0.]\n",
      " [0. 1. 1. 1. 1. 0.]\n",
      " [0. 1. 1. 1. 1. 0.]\n",
      " [0. 0. 0. 0. 0. 0.]]\n"
     ]
    }
   ],
   "source": [
    "s = te.create_schedule(B.op)\n",
    "mod = tvm.build(s, [A,B])\n",
    "c = tvm.nd.array(np.empty_like(b))\n",
    "mod(tvm.nd.array(a), c)\n",
    "print(c)\n",
    "np.testing.assert_equal(c.asnumpy(), b)"
   ]
  }
 ],
 "metadata": {
  "kernelspec": {
   "display_name": "Python 3 (ipykernel)",
   "language": "python",
   "name": "python3"
  },
  "language_info": {
   "codemirror_mode": {
    "name": "ipython",
    "version": 3
   },
   "file_extension": ".py",
   "mimetype": "text/x-python",
   "name": "python",
   "nbconvert_exporter": "python",
   "pygments_lexer": "ipython3",
   "version": "3.9.13"
  }
 },
 "nbformat": 4,
 "nbformat_minor": 5
}
