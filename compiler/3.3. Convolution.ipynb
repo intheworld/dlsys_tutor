{
 "cells": [
  {
   "cell_type": "code",
   "execution_count": 2,
   "metadata": {},
   "outputs": [],
   "source": [
    "import numpy as np\n",
    "import tvm\n",
    "from tvm import te"
   ]
  },
  {
   "cell_type": "code",
   "execution_count": 3,
   "metadata": {},
   "outputs": [],
   "source": [
    "def padding(X, ph, pw, val=0):\n",
    "    assert len(X.shape) >= 2\n",
    "    nh,nw = X.shape[-2],X.shape[-1]\n",
    "    return te.compute(\n",
    "        (*X.shape[0:-2],nh+ph*2,nw+pw*2),\n",
    "        lambda *i:te.if_then_else(\n",
    "            te.any(i[-2]<ph, i[-2]>=nh+ph, i[-1]<pw, i[-1]>=nw+pw),\n",
    "            val,X[i[:-2]+(i[-2]-ph,i[-1]-pw)]),name='PaddedX')\n",
    "    "
   ]
  },
  {
   "cell_type": "code",
   "execution_count": 5,
   "metadata": {},
   "outputs": [
    {
     "name": "stdout",
     "output_type": "stream",
     "text": [
      "[[[0. 0. 0. 0. 0. 0. 0. 0.]\n",
      "  [0. 0. 1. 1. 1. 1. 0. 0.]\n",
      "  [0. 0. 1. 1. 1. 1. 0. 0.]\n",
      "  [0. 0. 1. 1. 1. 1. 0. 0.]\n",
      "  [0. 0. 0. 0. 0. 0. 0. 0.]]\n",
      "\n",
      " [[0. 0. 0. 0. 0. 0. 0. 0.]\n",
      "  [0. 0. 1. 1. 1. 1. 0. 0.]\n",
      "  [0. 0. 1. 1. 1. 1. 0. 0.]\n",
      "  [0. 0. 1. 1. 1. 1. 0. 0.]\n",
      "  [0. 0. 0. 0. 0. 0. 0. 0.]]]\n"
     ]
    }
   ],
   "source": [
    "A=te.placeholder((2,3,4))\n",
    "B=padding(A,1,2)\n",
    "s=te.create_schedule(B.op)\n",
    "mod = tvm.build(s,[A,B])\n",
    "\n",
    "a=tvm.nd.array(np.ones((2,3,4),dtype='float32'))\n",
    "b=tvm.nd.array(np.empty((2,5,8),dtype='float32'))\n",
    "mod(a,b)\n",
    "print(b)"
   ]
  },
  {
   "cell_type": "markdown",
   "metadata": {},
   "source": [
    "### Convolution"
   ]
  },
  {
   "cell_type": "code",
   "execution_count": 6,
   "metadata": {},
   "outputs": [],
   "source": [
    "def conv_out_size(n,k,p,s):\n",
    "    return (n-k+2*p)//s + 1"
   ]
  },
  {
   "cell_type": "code",
   "execution_count": 7,
   "metadata": {},
   "outputs": [],
   "source": [
    "def conv(oc,ic,nh,nw,kh,kw,ph=0,pw=0,sh=0,sw=1):\n",
    "    \"\"\"Convolution\n",
    "    oc, ic : output and input channels\n",
    "    nh, nw : input width and height\n",
    "    kh, kw : kernel width and height\n",
    "    ph, pw : height and width padding sizes, default 0\n",
    "    sh, sw : height and width strides, default 1\n",
    "    \"\"\"\n",
    "    ric=te.reduce_axis((0,ic),name='ric')\n",
    "    rkh=te.reduce_axis((0,kh),name='rkh')\n",
    "    rkw=te.reduce_axis((0,kw),name='rkw')\n",
    "    \n",
    "    oh = conv_out_size(nh,kh,ph,sh)\n",
    "    ow = conv_out_size(nw,kw,pw,sw)\n",
    "    \n",
    "    X=te.place_holder((ic,nh,nw),name='X')\n",
    "    K=te.place_holder((oc,ic,kh,kw),name='K')\n",
    "    paddedX = padding(X,ph,pw) if ph *pw !=0 else X\n",
    "    Y = te.compute(\n",
    "        (oc,oh,ow),\n",
    "        lambda c,i,j:te.sum(\n",
    "            paddedX[ric,i*sh+rkh,j*sw+rkw] * K[c,ric,rkh,rkw],\n",
    "            axis=[ric,rkh,rkw]),name='Y')\n",
    "    return X,K,Y,paddedX"
   ]
  }
 ],
 "metadata": {
  "kernelspec": {
   "display_name": "Python 3",
   "language": "python",
   "name": "python3"
  },
  "language_info": {
   "codemirror_mode": {
    "name": "ipython",
    "version": 3
   },
   "file_extension": ".py",
   "mimetype": "text/x-python",
   "name": "python",
   "nbconvert_exporter": "python",
   "pygments_lexer": "ipython3",
   "version": "3.7.3"
  }
 },
 "nbformat": 4,
 "nbformat_minor": 2
}
