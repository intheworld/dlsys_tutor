{
 "cells": [
  {
   "cell_type": "code",
   "execution_count": 9,
   "id": "e5155548",
   "metadata": {},
   "outputs": [],
   "source": [
    "import tvm\n",
    "from tvm import te\n",
    "import numpy as np\n",
    "\n",
    "def conv_out_size(n,k,p,s):\n",
    "    return (n-k+2*p)//s + 1\n",
    "def padding(X, ph, pw, val=0):\n",
    "    assert len(X.shape) >= 2\n",
    "    nh,nw = X.shape[-2],X.shape[-1]\n",
    "    return te.compute(\n",
    "        (*X.shape[0:-2],nh+ph*2,nw+pw*2),\n",
    "        lambda *i:te.if_then_else(\n",
    "            te.any(i[-2]<ph, i[-2]>=nh+ph, i[-1]<pw, i[-1]>=nw+pw),\n",
    "            val,X[i[:-2]+(i[-2]-ph,i[-1]-pw)]),name='PaddedX')"
   ]
  },
  {
   "cell_type": "code",
   "execution_count": 10,
   "id": "650433ab",
   "metadata": {},
   "outputs": [],
   "source": [
    "def pool(pool_type, c, nh, nw, kh, kw, ph=0, pw=0, sh=1, sw=1):\n",
    "    # reduction axes\n",
    "    rkh = te.reduce_axis((0,kh), name='rkh')\n",
    "    rkw = te.reduce_axis((0,kw), name='rkw')\n",
    "    \n",
    "    oh = conv_out_size(nh, kh, ph, sh)\n",
    "    ow = conv_out_size(nw, kw, pw, sw)\n",
    "    \n",
    "    X = te.placeholder((c, nh, nw), name='X')\n",
    "    \n",
    "    if pool_type == 'max':\n",
    "        PaddedX = padding(X, ph, pw, val=te.min_value(X.dtype)) \\\n",
    "            if ph * pw != 0 else X\n",
    "        Y = te.compute((c, oh, ow), \\\n",
    "                          lambda c, h, w:\\\n",
    "                          te.max(PaddedX[c, h*sh+rkh, w*sw+rkw],\\\n",
    "                                axis=[rkh,rkw]),\\\n",
    "                          tag='pool_max', name='PoolMax')\n",
    "    elif pool_type == 'avg':\n",
    "        PaddedX = padding(X, ph, pw) if ph * pw != 0 else X\n",
    "        tsum = te.compute((c, oh, ow), \\\n",
    "                          lambda c, h, w:\\\n",
    "                          te.sum(PaddedX[c, h*sh+rkh, w*sw+rkw],\\\n",
    "                                axis=[rkh,rkw]),\\\n",
    "                          tag='pool_avg1', name='PoolSum')\n",
    "        Y = te.compute((c,oh,ow),\\\n",
    "                          lambda c, h, w:\\\n",
    "                          tsum[c,h,w] / (kh*kw),\\\n",
    "                          tag='pool_avg2', name='PoolAvg')\n",
    "    else:\n",
    "        raise ValueError(\"Pool type should be 'avg' or 'max'.\")\n",
    "    return X, Y, PaddedX\n",
    "        \n"
   ]
  },
  {
   "cell_type": "code",
   "execution_count": 11,
   "id": "0f02141a",
   "metadata": {},
   "outputs": [],
   "source": [
    "def get_conv_data(oc,ic,n,k,p=0,s=1,constructor=None,conv_type='direct'):\n",
    "    np.random.seed(0)\n",
    "    data = np.random.normal(size=(ic,n,n)).astype('float32')\n",
    "    ic_weight = ic\n",
    "    if conv_type == 'depthwise':\n",
    "        ic_weight = 1\n",
    "    weight = np.random.normal(size=(oc,ic_weight,k,k)).astype('float32')\n",
    "    on = conv_out_size(n,k,p,s)\n",
    "    out = np.empty((oc,on,on), dtype='float32')\n",
    "    if constructor:\n",
    "        data, weight, out = (constructor(x) for x in [data, weight, out])\n",
    "    return data,weight,out"
   ]
  },
  {
   "cell_type": "code",
   "execution_count": 12,
   "id": "83100708",
   "metadata": {},
   "outputs": [
    {
     "name": "stdout",
     "output_type": "stream",
     "text": [
      "@main = primfn(X_1: handle, PoolMax_1: handle) -> ()\n",
      "  attr = {\"from_legacy_te_schedule\": True, \"global_symbol\": \"main\", \"tir.noalias\": True}\n",
      "  buffers = {X: Buffer(X_2: Pointer(float32), float32, [576], []),\n",
      "             PoolMax: Buffer(PoolMax_2: Pointer(float32), float32, [576], [])}\n",
      "  buffer_map = {X_1: X, PoolMax_1: PoolMax}\n",
      "  preflattened_buffer_map = {X_1: X_3: Buffer(X_2, float32, [4, 12, 12], []), PoolMax_1: PoolMax_3: Buffer(PoolMax_2, float32, [4, 12, 12], [])} {\n",
      "  allocate(PaddedX: Pointer(global float32), float32, [784]), storage_scope = global {\n",
      "    for (i0: int32, 0, 4) {\n",
      "      for (i1: int32, 0, 14) {\n",
      "        for (i2: int32, 0, 14) {\n",
      "          PaddedX_1: Buffer(PaddedX, float32, [784], [])[(((i0*196) + (i1*14)) + i2)] = @tir.if_then_else(((((i1 < 1) || (13 <= i1)) || (i2 < 1)) || (13 <= i2)), -3.40282e+38f32, X[((((i0*144) + (i1*12)) + i2) - 13)], dtype=float32)\n",
      "        }\n",
      "      }\n",
      "    }\n",
      "    for (c: int32, 0, 4) {\n",
      "      for (h: int32, 0, 12) {\n",
      "        for (w: int32, 0, 12) {\n",
      "          PoolMax[(((c*144) + (h*12)) + w)] = -3.40282e+38f32\n",
      "          for (rkh: int32, 0, 3) {\n",
      "            for (rkw: int32, 0, 3) {\n",
      "              let cse_var_1: int32 = (((c*144) + (h*12)) + w)\n",
      "              PoolMax[cse_var_1] = max(PoolMax[cse_var_1], PaddedX_1[(((((c*196) + (h*14)) + (rkh*14)) + w) + rkw)])\n",
      "            }\n",
      "          }\n",
      "        }\n",
      "      }\n",
      "    }\n",
      "  }\n",
      "}\n",
      "\n",
      "\n"
     ]
    }
   ],
   "source": [
    "c, n, k, p, s = 4, 12, 3, 1, 1\n",
    "X, Y, PaddedX = pool('max', c, n, n, k, k, p, p, s, s)\n",
    "sch = te.create_schedule(Y.op)\n",
    "mod = tvm.build(sch, [X, Y])\n",
    "print(tvm.lower(sch, [X, Y], simple_mode=True))\n",
    "data, _, out_max = get_conv_data(c, c, n, k, p, s, tvm.nd.array)\n",
    "mod(data, out_max)"
   ]
  }
 ],
 "metadata": {
  "kernelspec": {
   "display_name": "Python 3 (ipykernel)",
   "language": "python",
   "name": "python3"
  },
  "language_info": {
   "codemirror_mode": {
    "name": "ipython",
    "version": 3
   },
   "file_extension": ".py",
   "mimetype": "text/x-python",
   "name": "python",
   "nbconvert_exporter": "python",
   "pygments_lexer": "ipython3",
   "version": "3.9.13"
  }
 },
 "nbformat": 4,
 "nbformat_minor": 5
}
