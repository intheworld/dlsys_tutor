{
 "cells": [
  {
   "cell_type": "markdown",
   "metadata": {},
   "source": [
    "### specifying a type"
   ]
  },
  {
   "cell_type": "code",
   "execution_count": 5,
   "metadata": {},
   "outputs": [],
   "source": [
    "import numpy as np\n",
    "import tvm\n",
    "from tvm import te\n",
    "\n",
    "def get_abc(shape, constructor=None):\n",
    "    \"\"\"Return random a, b and empty c with the same shape.\n",
    "    \"\"\"\n",
    "    np.random.seed(0)\n",
    "    a = np.random.normal(size=shape).astype(np.float32)\n",
    "    b = np.random.normal(size=shape).astype(np.float32)\n",
    "    c = np.empty_like(a)\n",
    "    if constructor:\n",
    "        a, b, c = [constructor(x) for x in (a, b, c)]\n",
    "    return a, b, c\n",
    "\n",
    "n = 100\n",
    "\n",
    "def tvm_vector_add(dtype):\n",
    "    A = te.placeholder((n,), dtype=dtype)\n",
    "    B = te.placeholder((n,), dtype=dtype)\n",
    "    C = te.compute(A.shape, lambda i: A[i] + B[i])\n",
    "    print('expression dtype:', A.dtype, B.dtype, C.dtype)\n",
    "    s = te.create_schedule(C.op)\n",
    "    return tvm.build(s, [A, B, C])\n"
   ]
  },
  {
   "cell_type": "code",
   "execution_count": 6,
   "metadata": {},
   "outputs": [
    {
     "name": "stdout",
     "output_type": "stream",
     "text": [
      "expression dtype: int32 int32 int32\n"
     ]
    }
   ],
   "source": [
    "mod = tvm_vector_add('int32')"
   ]
  },
  {
   "cell_type": "code",
   "execution_count": 7,
   "metadata": {},
   "outputs": [
    {
     "name": "stdout",
     "output_type": "stream",
     "text": [
      "tensor dtype: int32 int32 int32\n"
     ]
    }
   ],
   "source": [
    "def test_mod(mod, dtype):\n",
    "    a, b, c = get_abc(n, lambda x: tvm.nd.array(x.astype(dtype)))\n",
    "    print('tensor dtype:', a.dtype, b.dtype, c.dtype)\n",
    "    mod(a, b, c)\n",
    "    np.testing.assert_equal(c.asnumpy(), a.asnumpy() + b.asnumpy())\n",
    "\n",
    "test_mod(mod, 'int32')"
   ]
  },
  {
   "cell_type": "code",
   "execution_count": 8,
   "metadata": {},
   "outputs": [
    {
     "name": "stdout",
     "output_type": "stream",
     "text": [
      "expression dtype: float16 float16 float16\n",
      "tensor dtype: float16 float16 float16\n",
      "expression dtype: float64 float64 float64\n",
      "tensor dtype: float64 float64 float64\n",
      "expression dtype: int8 int8 int8\n",
      "tensor dtype: int8 int8 int8\n",
      "expression dtype: int16 int16 int16\n",
      "tensor dtype: int16 int16 int16\n",
      "expression dtype: int64 int64 int64\n",
      "tensor dtype: int64 int64 int64\n"
     ]
    }
   ],
   "source": [
    "for dtype in ['float16', 'float64', 'int8','int16', 'int64']:\n",
    "    mod = tvm_vector_add(dtype)\n",
    "    test_mod(mod, dtype)"
   ]
  },
  {
   "cell_type": "markdown",
   "metadata": {},
   "source": [
    "### converting type during computation"
   ]
  },
  {
   "cell_type": "code",
   "execution_count": 9,
   "metadata": {},
   "outputs": [],
   "source": [
    "def tvm_vector_add_2(dtype):\n",
    "    A = te.placeholder((n,))\n",
    "    B = te.placeholder((n,))\n",
    "    C = te.compute(A.shape,\n",
    "                    lambda i: A[i].astype(dtype) + B[i].astype(dtype))\n",
    "    print('expression dtype:', A.dtype, B.dtype, C.dtype)\n",
    "    s = te.create_schedule(C.op)\n",
    "    return tvm.build(s, [A, B, C])"
   ]
  },
  {
   "cell_type": "code",
   "execution_count": 10,
   "metadata": {},
   "outputs": [
    {
     "name": "stdout",
     "output_type": "stream",
     "text": [
      "expression dtype: float32 float32 int32\n",
      "tensor dtype: float32 float32 int32\n"
     ]
    }
   ],
   "source": [
    "def test_mod_2(mod, dtype):\n",
    "    a, b, c = get_abc(n)\n",
    "    # by default `get_abc` returns NumPy ndarray in float32\n",
    "    a_tvm, b_tvm = tvm.nd.array(a), tvm.nd.array(b)\n",
    "    c_tvm = tvm.nd.array(c.astype(dtype))\n",
    "    print('tensor dtype:', a_tvm.dtype, b_tvm.dtype, c_tvm.dtype)\n",
    "    mod(a_tvm, b_tvm, c_tvm)\n",
    "    np.testing.assert_equal(c_tvm.asnumpy(), a.astype(dtype) + b.astype(dtype))\n",
    "\n",
    "mod = tvm_vector_add_2('int32')\n",
    "test_mod_2(mod, 'int32')"
   ]
  }
 ],
 "metadata": {
  "kernelspec": {
   "display_name": "Python 3",
   "language": "python",
   "name": "python3"
  },
  "language_info": {
   "codemirror_mode": {
    "name": "ipython",
    "version": 3
   },
   "file_extension": ".py",
   "mimetype": "text/x-python",
   "name": "python",
   "nbconvert_exporter": "python",
   "pygments_lexer": "ipython3",
   "version": "3.7.3"
  }
 },
 "nbformat": 4,
 "nbformat_minor": 2
}
