{
 "cells": [
  {
   "cell_type": "code",
   "execution_count": 2,
   "id": "f2334d8c",
   "metadata": {},
   "outputs": [],
   "source": [
    "import tvm\n",
    "from tvm import te\n",
    "import numpy as np"
   ]
  },
  {
   "cell_type": "code",
   "execution_count": null,
   "id": "b42be89d",
   "metadata": {},
   "outputs": [],
   "source": [
    "import topi\n",
    "\n",
    "def batch_normal(c, n, eps=1e-5): \n",
    "    X = te.placeholder((c,n,n),name='X')\n",
    "    Mean = te.placeholder((c,1,1),name='Mean')\n",
    "    Var = te.placeholder((c,1,1),name='Var')\n",
    "    Gamma = te.placeholder((c,1,1),name='Gamma')\n",
    "    Beta = te.placeholder((c,1,1),name='Beta')\n",
    "    C1 = X - Mean\n",
    "    C2 = topi.sqrt(Var + eps)\n",
    "    Y = C1 / C2 * Gamma + Beta\n",
    "    return X, Mean, Var, Gamma, Beta, Y"
   ]
  }
 ],
 "metadata": {
  "kernelspec": {
   "display_name": "Python 3 (ipykernel)",
   "language": "python",
   "name": "python3"
  },
  "language_info": {
   "codemirror_mode": {
    "name": "ipython",
    "version": 3
   },
   "file_extension": ".py",
   "mimetype": "text/x-python",
   "name": "python",
   "nbconvert_exporter": "python",
   "pygments_lexer": "ipython3",
   "version": "3.9.13"
  }
 },
 "nbformat": 4,
 "nbformat_minor": 5
}
